{
  "nbformat": 4,
  "nbformat_minor": 0,
  "metadata": {
    "colab": {
      "name": "Resnet18_TinyImageNet.ipynb",
      "provenance": [],
      "collapsed_sections": [],
      "authorship_tag": "ABX9TyOJd0wdBxo0npLgWVPyNYEk",
      "include_colab_link": true
    },
    "kernelspec": {
      "display_name": "Python 3",
      "name": "python3"
    },
    "widgets": {
      "application/vnd.jupyter.widget-state+json": {
        "c5da275fbe344aa0b1cc05cd39c4a2ed": {
          "model_module": "@jupyter-widgets/controls",
          "model_name": "HBoxModel",
          "state": {
            "_view_name": "HBoxView",
            "_dom_classes": [],
            "_model_name": "HBoxModel",
            "_view_module": "@jupyter-widgets/controls",
            "_model_module_version": "1.5.0",
            "_view_count": null,
            "_view_module_version": "1.5.0",
            "box_style": "",
            "layout": "IPY_MODEL_b7c24cc62338457ba2585bae5ecf4b6c",
            "_model_module": "@jupyter-widgets/controls",
            "children": [
              "IPY_MODEL_18ecea50656e4e58971d8ca61db48aff",
              "IPY_MODEL_3ced3b01a64c4baa9020ecd62f2f13d0"
            ]
          }
        },
        "b7c24cc62338457ba2585bae5ecf4b6c": {
          "model_module": "@jupyter-widgets/base",
          "model_name": "LayoutModel",
          "state": {
            "_view_name": "LayoutView",
            "grid_template_rows": null,
            "right": null,
            "justify_content": null,
            "_view_module": "@jupyter-widgets/base",
            "overflow": null,
            "_model_module_version": "1.2.0",
            "_view_count": null,
            "flex_flow": null,
            "width": null,
            "min_width": null,
            "border": null,
            "align_items": null,
            "bottom": null,
            "_model_module": "@jupyter-widgets/base",
            "top": null,
            "grid_column": null,
            "overflow_y": null,
            "overflow_x": null,
            "grid_auto_flow": null,
            "grid_area": null,
            "grid_template_columns": null,
            "flex": null,
            "_model_name": "LayoutModel",
            "justify_items": null,
            "grid_row": null,
            "max_height": null,
            "align_content": null,
            "visibility": null,
            "align_self": null,
            "height": null,
            "min_height": null,
            "padding": null,
            "grid_auto_rows": null,
            "grid_gap": null,
            "max_width": null,
            "order": null,
            "_view_module_version": "1.2.0",
            "grid_template_areas": null,
            "object_position": null,
            "object_fit": null,
            "grid_auto_columns": null,
            "margin": null,
            "display": null,
            "left": null
          }
        },
        "18ecea50656e4e58971d8ca61db48aff": {
          "model_module": "@jupyter-widgets/controls",
          "model_name": "FloatProgressModel",
          "state": {
            "_view_name": "ProgressView",
            "style": "IPY_MODEL_62259b4a3d5446deb81ecc51fe86126a",
            "_dom_classes": [],
            "description": " 82%",
            "_model_name": "FloatProgressModel",
            "bar_style": "danger",
            "max": 137,
            "_view_module": "@jupyter-widgets/controls",
            "_model_module_version": "1.5.0",
            "value": 112,
            "_view_count": null,
            "_view_module_version": "1.5.0",
            "orientation": "horizontal",
            "min": 0,
            "description_tooltip": null,
            "_model_module": "@jupyter-widgets/controls",
            "layout": "IPY_MODEL_0a8cbe1d5004490aa3bfef2ec732c60a"
          }
        },
        "3ced3b01a64c4baa9020ecd62f2f13d0": {
          "model_module": "@jupyter-widgets/controls",
          "model_name": "HTMLModel",
          "state": {
            "_view_name": "HTMLView",
            "style": "IPY_MODEL_b2efae3d192e4987ae3b4d4df2e1187f",
            "_dom_classes": [],
            "description": "",
            "_model_name": "HTMLModel",
            "placeholder": "​",
            "_view_module": "@jupyter-widgets/controls",
            "_model_module_version": "1.5.0",
            "value": " 112/137 [1:30:49&lt;20:01, 48.05s/it]",
            "_view_count": null,
            "_view_module_version": "1.5.0",
            "description_tooltip": null,
            "_model_module": "@jupyter-widgets/controls",
            "layout": "IPY_MODEL_cd48d1ebc0194cf181e67a88eb273b53"
          }
        },
        "62259b4a3d5446deb81ecc51fe86126a": {
          "model_module": "@jupyter-widgets/controls",
          "model_name": "ProgressStyleModel",
          "state": {
            "_view_name": "StyleView",
            "_model_name": "ProgressStyleModel",
            "description_width": "initial",
            "_view_module": "@jupyter-widgets/base",
            "_model_module_version": "1.5.0",
            "_view_count": null,
            "_view_module_version": "1.2.0",
            "bar_color": null,
            "_model_module": "@jupyter-widgets/controls"
          }
        },
        "0a8cbe1d5004490aa3bfef2ec732c60a": {
          "model_module": "@jupyter-widgets/base",
          "model_name": "LayoutModel",
          "state": {
            "_view_name": "LayoutView",
            "grid_template_rows": null,
            "right": null,
            "justify_content": null,
            "_view_module": "@jupyter-widgets/base",
            "overflow": null,
            "_model_module_version": "1.2.0",
            "_view_count": null,
            "flex_flow": null,
            "width": null,
            "min_width": null,
            "border": null,
            "align_items": null,
            "bottom": null,
            "_model_module": "@jupyter-widgets/base",
            "top": null,
            "grid_column": null,
            "overflow_y": null,
            "overflow_x": null,
            "grid_auto_flow": null,
            "grid_area": null,
            "grid_template_columns": null,
            "flex": null,
            "_model_name": "LayoutModel",
            "justify_items": null,
            "grid_row": null,
            "max_height": null,
            "align_content": null,
            "visibility": null,
            "align_self": null,
            "height": null,
            "min_height": null,
            "padding": null,
            "grid_auto_rows": null,
            "grid_gap": null,
            "max_width": null,
            "order": null,
            "_view_module_version": "1.2.0",
            "grid_template_areas": null,
            "object_position": null,
            "object_fit": null,
            "grid_auto_columns": null,
            "margin": null,
            "display": null,
            "left": null
          }
        },
        "b2efae3d192e4987ae3b4d4df2e1187f": {
          "model_module": "@jupyter-widgets/controls",
          "model_name": "DescriptionStyleModel",
          "state": {
            "_view_name": "StyleView",
            "_model_name": "DescriptionStyleModel",
            "description_width": "",
            "_view_module": "@jupyter-widgets/base",
            "_model_module_version": "1.5.0",
            "_view_count": null,
            "_view_module_version": "1.2.0",
            "_model_module": "@jupyter-widgets/controls"
          }
        },
        "cd48d1ebc0194cf181e67a88eb273b53": {
          "model_module": "@jupyter-widgets/base",
          "model_name": "LayoutModel",
          "state": {
            "_view_name": "LayoutView",
            "grid_template_rows": null,
            "right": null,
            "justify_content": null,
            "_view_module": "@jupyter-widgets/base",
            "overflow": null,
            "_model_module_version": "1.2.0",
            "_view_count": null,
            "flex_flow": null,
            "width": null,
            "min_width": null,
            "border": null,
            "align_items": null,
            "bottom": null,
            "_model_module": "@jupyter-widgets/base",
            "top": null,
            "grid_column": null,
            "overflow_y": null,
            "overflow_x": null,
            "grid_auto_flow": null,
            "grid_area": null,
            "grid_template_columns": null,
            "flex": null,
            "_model_name": "LayoutModel",
            "justify_items": null,
            "grid_row": null,
            "max_height": null,
            "align_content": null,
            "visibility": null,
            "align_self": null,
            "height": null,
            "min_height": null,
            "padding": null,
            "grid_auto_rows": null,
            "grid_gap": null,
            "max_width": null,
            "order": null,
            "_view_module_version": "1.2.0",
            "grid_template_areas": null,
            "object_position": null,
            "object_fit": null,
            "grid_auto_columns": null,
            "margin": null,
            "display": null,
            "left": null
          }
        }
      }
    },
    "accelerator": "GPU"
  },
  "cells": [
    {
      "cell_type": "markdown",
      "metadata": {
        "id": "view-in-github",
        "colab_type": "text"
      },
      "source": [
        "<a href=\"https://colab.research.google.com/github/prachi735/Resnet18_Tiny_ImageNet/blob/main/Resnet18_TinyImageNet.ipynb\" target=\"_parent\"><img src=\"https://colab.research.google.com/assets/colab-badge.svg\" alt=\"Open In Colab\"/></a>"
      ]
    },
    {
      "cell_type": "markdown",
      "metadata": {
        "id": "eS1wb6Kl75Df"
      },
      "source": [
        "# Import files from github"
      ]
    },
    {
      "cell_type": "code",
      "metadata": {
        "colab": {
          "base_uri": "https://localhost:8080/"
        },
        "id": "VQ8fKQZ37H2i",
        "outputId": "09a02a85-813c-461c-9521-c3232fe4dfc0"
      },
      "source": [
        "from google.colab import drive\n",
        "drive.mount('/gdrive/')"
      ],
      "execution_count": 1,
      "outputs": [
        {
          "output_type": "stream",
          "text": [
            "Drive already mounted at /gdrive/; to attempt to forcibly remount, call drive.mount(\"/gdrive/\", force_remount=True).\n"
          ],
          "name": "stdout"
        }
      ]
    },
    {
      "cell_type": "code",
      "metadata": {
        "colab": {
          "base_uri": "https://localhost:8080/"
        },
        "id": "LPB5x_gFiQBs",
        "outputId": "d99ce61d-5a1d-4b45-b477-63f8e6a86f29"
      },
      "source": [
        "! pip install -U albumentations -q\r\n",
        "! git clone https://github.com/prachi735/Resnet18_Tiny_ImageNet"
      ],
      "execution_count": 6,
      "outputs": [
        {
          "output_type": "stream",
          "text": [
            "\u001b[K     |████████████████████████████████| 81kB 6.6MB/s \n",
            "\u001b[K     |████████████████████████████████| 952kB 14.7MB/s \n",
            "\u001b[K     |████████████████████████████████| 37.6MB 84kB/s \n",
            "\u001b[?25hCloning into 'Resnet18_Tiny_ImageNet'...\n",
            "remote: Enumerating objects: 146, done.\u001b[K\n",
            "remote: Counting objects: 100% (146/146), done.\u001b[K\n",
            "remote: Compressing objects: 100% (94/94), done.\u001b[K\n",
            "remote: Total 120722 (delta 90), reused 107 (delta 51), pack-reused 120576\u001b[K\n",
            "Receiving objects: 100% (120722/120722), 212.31 MiB | 32.25 MiB/s, done.\n",
            "Resolving deltas: 100% (1199/1199), done.\n",
            "Checking out files: 100% (120213/120213), done.\n"
          ],
          "name": "stdout"
        }
      ]
    },
    {
      "cell_type": "code",
      "metadata": {
        "colab": {
          "base_uri": "https://localhost:8080/"
        },
        "id": "Mk2j-4N-zsK1",
        "outputId": "a8d84572-e55f-4244-f839-48f2b19fa020"
      },
      "source": [
        "%cd Resnet18_Tiny_ImageNet\r\n",
        "! git pull"
      ],
      "execution_count": 1,
      "outputs": [
        {
          "output_type": "stream",
          "text": [
            "/content/Resnet18_Tiny_ImageNet\n",
            "Already up to date.\n"
          ],
          "name": "stdout"
        }
      ]
    },
    {
      "cell_type": "code",
      "metadata": {
        "id": "a58QX-GvnlE7"
      },
      "source": [
        "import torch.nn as nn\r\n",
        "import numpy as np\r\n",
        "import matplotlib.pyplot as plt\r\n",
        "\r\n",
        "import torch.optim as optim\r\n",
        "from torch.optim import lr_scheduler\r\n",
        "\r\n",
        "from data import *\r\n",
        "from utils import *\r\n",
        "from model import ResNet18\r\n",
        "from model_utils import *\r\n",
        "from gradcam import visualize_gradcam\r\n",
        "from lr_finder import get_lr_rates"
      ],
      "execution_count": 4,
      "outputs": []
    },
    {
      "cell_type": "markdown",
      "metadata": {
        "id": "wZNHEoqCCJ2j"
      },
      "source": [
        "# Data"
      ]
    },
    {
      "cell_type": "code",
      "metadata": {
        "id": "7VcwWGP7J7UT"
      },
      "source": [
        "mean = np.array([0.4914, 0.4822, 0.4465])\n",
        "std = np.array([0.2023, 0.1994, 0.2010])\n",
        " \n",
        "torch.set_default_tensor_type('torch.cuda.FloatTensor')\n",
        "\n",
        "seed_everything()\n",
        "device = get_device()\n",
        " \n",
        "transforms = {}\n",
        "data = {}\n",
        "dataloaders = {}\n",
        "\n",
        "transforms = get_transforms('train', mean, std)\n",
        "\n",
        "img_dataset = TinyImageNet(root='data/train',device=device,transform=transforms)\n",
        "full_dataset_loader = get_dataloader(img_dataset,device, batch_size=512, num_workers=0, pin_memory=False)\n",
        "\n"
      ],
      "execution_count": 5,
      "outputs": []
    },
    {
      "cell_type": "code",
      "metadata": {
        "id": "KInnLPJ96S5E"
      },
      "source": [
        "dataset_size = len(img_dataset)\r\n",
        "dataset_indices = list(range(dataset_size))\r\n",
        "\r\n",
        "np.random.shuffle(dataset_indices)\r\n",
        "\r\n",
        "val_split_index = int(np.floor(0.3 * dataset_size))\r\n",
        "\r\n",
        "train_idx, val_idx = dataset_indices[val_split_index:], dataset_indices[:val_split_index]\r\n",
        "train_sampler = torch.utils.data.SubsetRandomSampler(train_idx)\r\n",
        "val_sampler = torch.utils.data.SubsetRandomSampler(val_idx)"
      ],
      "execution_count": 6,
      "outputs": []
    },
    {
      "cell_type": "code",
      "metadata": {
        "id": "nHhbe97kENm6"
      },
      "source": [
        "train_loader = get_dataloader(img_dataset,device, train_sampler, batch_size=512, num_workers=0, pin_memory=False)\r\n",
        "val_loader =  get_dataloader(img_dataset,device, val_sampler, batch_size=512, num_workers=0, pin_memory=False)"
      ],
      "execution_count": 7,
      "outputs": []
    },
    {
      "cell_type": "code",
      "metadata": {
        "id": "SQyVCkGz41tq"
      },
      "source": [
        "classes = img_dataset.classes"
      ],
      "execution_count": 8,
      "outputs": []
    },
    {
      "cell_type": "code",
      "metadata": {
        "colab": {
          "base_uri": "https://localhost:8080/",
          "height": 400
        },
        "id": "mBwXpnF_Ju5t",
        "outputId": "f246d2ee-388f-4289-b32f-f16cf9dd4b7f"
      },
      "source": [
        "plot_sample_images(train_loader, classes, ncols=5, nrows=5, fig_size=(6,6))"
      ],
      "execution_count": 8,
      "outputs": [
        {
          "output_type": "display_data",
          "data": {
            "image/png": "[encoded data removed]",
            "text/plain": [
              "<Figure size 432x432 with 25 Axes>"
            ]
          },
          "metadata": {
            "tags": [],
            "needs_background": "light"
          }
        }
      ]
    },
    {
      "cell_type": "markdown",
      "metadata": {
        "id": "McWDF_KRcEx9"
      },
      "source": [
        "# Train Model"
      ]
    },
    {
      "cell_type": "markdown",
      "metadata": {
        "id": "tM1kc1y4q0MY"
      },
      "source": [
        "## Model Arch"
      ]
    },
    {
      "cell_type": "code",
      "metadata": {
        "id": "27-tUG1kgX3s",
        "colab": {
          "base_uri": "https://localhost:8080/"
        },
        "outputId": "844fde91-d9bb-4e26-e2c0-d0ab7cd752f9"
      },
      "source": [
        "model =  ResNet18(num_classes=len(classes)).to(device)\r\n",
        "print(get_model_summary(model, input_size=(3,64,64)))"
      ],
      "execution_count": 10,
      "outputs": [
        {
          "output_type": "stream",
          "text": [
            "----------------------------------------------------------------\n",
            "        Layer (type)               Output Shape         Param #\n",
            "================================================================\n",
            "            Conv2d-1           [-1, 64, 64, 64]           1,728\n",
            "       BatchNorm2d-2           [-1, 64, 64, 64]             128\n",
            "            Conv2d-3           [-1, 64, 64, 64]          36,864\n",
            "       BatchNorm2d-4           [-1, 64, 64, 64]             128\n",
            "            Conv2d-5           [-1, 64, 64, 64]          36,864\n",
            "       BatchNorm2d-6           [-1, 64, 64, 64]             128\n",
            "        BasicBlock-7           [-1, 64, 64, 64]               0\n",
            "            Conv2d-8           [-1, 64, 64, 64]          36,864\n",
            "       BatchNorm2d-9           [-1, 64, 64, 64]             128\n",
            "           Conv2d-10           [-1, 64, 64, 64]          36,864\n",
            "      BatchNorm2d-11           [-1, 64, 64, 64]             128\n",
            "       BasicBlock-12           [-1, 64, 64, 64]               0\n",
            "           Conv2d-13          [-1, 128, 32, 32]          73,728\n",
            "      BatchNorm2d-14          [-1, 128, 32, 32]             256\n",
            "           Conv2d-15          [-1, 128, 32, 32]         147,456\n",
            "      BatchNorm2d-16          [-1, 128, 32, 32]             256\n",
            "           Conv2d-17          [-1, 128, 32, 32]           8,192\n",
            "      BatchNorm2d-18          [-1, 128, 32, 32]             256\n",
            "       BasicBlock-19          [-1, 128, 32, 32]               0\n",
            "           Conv2d-20          [-1, 128, 32, 32]         147,456\n",
            "      BatchNorm2d-21          [-1, 128, 32, 32]             256\n",
            "           Conv2d-22          [-1, 128, 32, 32]         147,456\n",
            "      BatchNorm2d-23          [-1, 128, 32, 32]             256\n",
            "       BasicBlock-24          [-1, 128, 32, 32]               0\n",
            "           Conv2d-25          [-1, 256, 16, 16]         294,912\n",
            "      BatchNorm2d-26          [-1, 256, 16, 16]             512\n",
            "           Conv2d-27          [-1, 256, 16, 16]         589,824\n",
            "      BatchNorm2d-28          [-1, 256, 16, 16]             512\n",
            "           Conv2d-29          [-1, 256, 16, 16]          32,768\n",
            "      BatchNorm2d-30          [-1, 256, 16, 16]             512\n",
            "       BasicBlock-31          [-1, 256, 16, 16]               0\n",
            "           Conv2d-32          [-1, 256, 16, 16]         589,824\n",
            "      BatchNorm2d-33          [-1, 256, 16, 16]             512\n",
            "           Conv2d-34          [-1, 256, 16, 16]         589,824\n",
            "      BatchNorm2d-35          [-1, 256, 16, 16]             512\n",
            "       BasicBlock-36          [-1, 256, 16, 16]               0\n",
            "           Conv2d-37            [-1, 512, 8, 8]       1,179,648\n",
            "      BatchNorm2d-38            [-1, 512, 8, 8]           1,024\n",
            "           Conv2d-39            [-1, 512, 8, 8]       2,359,296\n",
            "      BatchNorm2d-40            [-1, 512, 8, 8]           1,024\n",
            "           Conv2d-41            [-1, 512, 8, 8]         131,072\n",
            "      BatchNorm2d-42            [-1, 512, 8, 8]           1,024\n",
            "       BasicBlock-43            [-1, 512, 8, 8]               0\n",
            "           Conv2d-44            [-1, 512, 8, 8]       2,359,296\n",
            "      BatchNorm2d-45            [-1, 512, 8, 8]           1,024\n",
            "           Conv2d-46            [-1, 512, 8, 8]       2,359,296\n",
            "      BatchNorm2d-47            [-1, 512, 8, 8]           1,024\n",
            "       BasicBlock-48            [-1, 512, 8, 8]               0\n",
            "           Linear-49                  [-1, 200]         102,600\n",
            "================================================================\n",
            "Total params: 11,271,432\n",
            "Trainable params: 11,271,432\n",
            "Non-trainable params: 0\n",
            "----------------------------------------------------------------\n",
            "Input size (MB): 0.05\n",
            "Forward/backward pass size (MB): 45.00\n",
            "Params size (MB): 43.00\n",
            "Estimated Total Size (MB): 88.05\n",
            "----------------------------------------------------------------\n",
            "None\n"
          ],
          "name": "stdout"
        }
      ]
    },
    {
      "cell_type": "markdown",
      "metadata": {
        "id": "4D3xsLXDfUNv"
      },
      "source": [
        "## LR Finder"
      ]
    },
    {
      "cell_type": "code",
      "metadata": {
        "id": "z_6eIrYwjDJ6"
      },
      "source": [
        "criterion = nn.CrossEntropyLoss()\r\n",
        "optimizer = optim.SGD(model.parameters(), lr=1e-04, momentum=0.9) "
      ],
      "execution_count": 11,
      "outputs": []
    },
    {
      "cell_type": "code",
      "metadata": {
        "colab": {
          "base_uri": "https://localhost:8080/",
          "height": 382,
          "referenced_widgets": [
            "c5da275fbe344aa0b1cc05cd39c4a2ed",
            "b7c24cc62338457ba2585bae5ecf4b6c",
            "18ecea50656e4e58971d8ca61db48aff",
            "3ced3b01a64c4baa9020ecd62f2f13d0",
            "62259b4a3d5446deb81ecc51fe86126a",
            "0a8cbe1d5004490aa3bfef2ec732c60a",
            "b2efae3d192e4987ae3b4d4df2e1187f",
            "cd48d1ebc0194cf181e67a88eb273b53"
          ]
        },
        "id": "_w8hEOltnTSZ",
        "outputId": "85464001-b9b0-4819-d9a1-d0f183c7eb50"
      },
      "source": [
        "suggested_lr = get_lr_rates(model,criterion, optimizer, train_loader=train_loader, device=device, end_lr=1, step_mode=\"exp\",val_loader=val_loader ,plot=True)"
      ],
      "execution_count": 12,
      "outputs": [
        {
          "output_type": "display_data",
          "data": {
            "application/vnd.jupyter.widget-view+json": {
              "model_id": "c5da275fbe344aa0b1cc05cd39c4a2ed",
              "version_major": 2,
              "version_minor": 0
            },
            "text/plain": [
              "HBox(children=(FloatProgress(value=0.0, max=137.0), HTML(value='')))"
            ]
          },
          "metadata": {
            "tags": []
          }
        },
        {
          "output_type": "stream",
          "text": [
            "Stopping early, the loss has diverged\n",
            "Learning rate search finished. See the graph with {finder_name}.plot()\n",
            "LR suggestion: steepest gradient\n",
            "Suggested LR: 1.84E-02\n"
          ],
          "name": "stdout"
        },
        {
          "output_type": "display_data",
          "data": {
            "image/png": "[encoded data removed]",
            "text/plain": [
              "<Figure size 432x288 with 1 Axes>"
            ]
          },
          "metadata": {
            "tags": [],
            "needs_background": "light"
          }
        }
      ]
    },
    {
      "cell_type": "markdown",
      "metadata": {
        "id": "jF51pcFbiXtP"
      },
      "source": [
        "## Train the model"
      ]
    },
    {
      "cell_type": "code",
      "metadata": {
        "colab": {
          "base_uri": "https://localhost:8080/"
        },
        "id": "hf2hbvW5eRq0",
        "outputId": "cdc78cec-3a47-484f-f6c6-9727b2209e10"
      },
      "source": [
        "suggested_lr"
      ],
      "execution_count": 13,
      "outputs": [
        {
          "output_type": "execute_result",
          "data": {
            "text/plain": [
              "0.01839525795803971"
            ]
          },
          "metadata": {
            "tags": []
          },
          "execution_count": 13
        }
      ]
    },
    {
      "cell_type": "code",
      "metadata": {
        "id": "nPpBj7WQdz6B"
      },
      "source": [
        "suggested_lr = 0.01839525795803971"
      ],
      "execution_count": 10,
      "outputs": []
    },
    {
      "cell_type": "code",
      "metadata": {
        "id": "cZgtBirH73Gc"
      },
      "source": [
        "model_path = '/gdrive/My Drive/session11_model.pth'\r\n",
        "model = ResNet18(200)\r\n",
        "model.load_state_dict(torch.load(model_path))\r\n",
        "model = model.to(device)"
      ],
      "execution_count": 9,
      "outputs": []
    },
    {
      "cell_type": "code",
      "metadata": {
        "id": "aC02XD8eCSBl"
      },
      "source": [
        "EPOCHS = 30\r\n",
        "MAX_AT_EPOCH = 10\r\n",
        "\r\n",
        "train_losses, train_acc, test_losses, test_acc, lrs = [], [], [], [], []\r\n",
        "best_test_acc = 0\r\n",
        "model_path = '/gdrive/My Drive/session11_model.pth'\r\n",
        "\r\n",
        "criterion = nn.CrossEntropyLoss()\r\n",
        "\r\n",
        "optimizer = optim.SGD(model.parameters(), lr=suggested_lr, momentum=0.9, weight_decay=1e-4)\r\n",
        "scheduler = lr_scheduler.ReduceLROnPlateau(optimizer, mode='min', factor=0.2,)\r\n",
        "# scheduler = lr_scheduler.CosineAnnealingLR(optimizer,T_max=200)\r\n",
        "# scheduler = lr_scheduler.OneCycleLR(optimizer, max_lr=suggested_lr*2, steps_per_epoch=len(train_loader), epochs=EPOCHS)"
      ],
      "execution_count": 11,
      "outputs": []
    },
    {
      "cell_type": "code",
      "metadata": {
        "id": "GRhHSV7exatr",
        "colab": {
          "base_uri": "https://localhost:8080/"
        },
        "outputId": "6f25d4d4-add3-4379-eafc-133be65614e9"
      },
      "source": [
        "for epoch in range(EPOCHS):\r\n",
        "    print(\"EPOCH:\", epoch+1)\r\n",
        "    # train\r\n",
        "    train_epoch_acc, train_epoch_loss = train(model, device, train_loader, optimizer, criterion, l2_decay=5e-3, scheduler=None)\r\n",
        "    train_losses.append(train_epoch_loss)\r\n",
        "    train_acc.append(train_epoch_acc)\r\n",
        "\r\n",
        "    # test\r\n",
        "    test_epoch_acc, test_epoch_loss = validate(model, device, val_loader, criterion)\r\n",
        "    test_losses.append(test_epoch_loss)\r\n",
        "    test_acc.append(test_epoch_acc)\r\n",
        "\r\n",
        "    scheduler.step(test_epoch_loss)\r\n",
        "\r\n",
        "    # remember best accuracy and save the model\r\n",
        "    is_best = test_epoch_acc > best_test_acc\r\n",
        "    best_test_acc = max(test_epoch_acc, best_test_acc)\r\n",
        "\r\n",
        "    if is_best:\r\n",
        "        print('Saving Model for accuracy: ', test_epoch_acc)\r\n",
        "        torch.save(model.state_dict(), model_path)"
      ],
      "execution_count": null,
      "outputs": [
        {
          "output_type": "stream",
          "text": [
            "\r  0%|          | 0/137 [00:00<?, ?it/s]"
          ],
          "name": "stderr"
        },
        {
          "output_type": "stream",
          "text": [
            "EPOCH: 1\n"
          ],
          "name": "stdout"
        },
        {
          "output_type": "stream",
          "text": [
            "Loss=4.178772926330566 Batch_id=136 Accuracy=43.57: 100%|██████████| 137/137 [05:30<00:00,  2.41s/it]\n",
            "  0%|          | 0/137 [00:00<?, ?it/s]"
          ],
          "name": "stderr"
        },
        {
          "output_type": "stream",
          "text": [
            "\n",
            "Test set: Average loss: 0.0017, Accuracy: 10167/100000 (10.17%)\n",
            "\n",
            "Saving Model for accuracy:  10.167\n",
            "EPOCH: 2\n"
          ],
          "name": "stdout"
        },
        {
          "output_type": "stream",
          "text": [
            "Loss=4.192875385284424 Batch_id=136 Accuracy=44.13: 100%|██████████| 137/137 [05:31<00:00,  2.42s/it]\n",
            "  0%|          | 0/137 [00:00<?, ?it/s]"
          ],
          "name": "stderr"
        },
        {
          "output_type": "stream",
          "text": [
            "\n",
            "Test set: Average loss: 0.0017, Accuracy: 10427/100000 (10.43%)\n",
            "\n",
            "Saving Model for accuracy:  10.427\n",
            "EPOCH: 3\n"
          ],
          "name": "stdout"
        },
        {
          "output_type": "stream",
          "text": [
            "Loss=4.096367835998535 Batch_id=136 Accuracy=45.44: 100%|██████████| 137/137 [05:31<00:00,  2.42s/it]\n",
            "  0%|          | 0/137 [00:00<?, ?it/s]"
          ],
          "name": "stderr"
        },
        {
          "output_type": "stream",
          "text": [
            "\n",
            "Test set: Average loss: 0.0018, Accuracy: 9555/100000 (9.55%)\n",
            "\n",
            "EPOCH: 4\n"
          ],
          "name": "stdout"
        },
        {
          "output_type": "stream",
          "text": [
            "Loss=4.051358222961426 Batch_id=136 Accuracy=46.12: 100%|██████████| 137/137 [05:31<00:00,  2.42s/it]\n",
            "  0%|          | 0/137 [00:00<?, ?it/s]"
          ],
          "name": "stderr"
        },
        {
          "output_type": "stream",
          "text": [
            "\n",
            "Test set: Average loss: 0.0017, Accuracy: 10489/100000 (10.49%)\n",
            "\n",
            "Saving Model for accuracy:  10.489\n",
            "EPOCH: 5\n"
          ],
          "name": "stdout"
        },
        {
          "output_type": "stream",
          "text": [
            "Loss=3.7502810955047607 Batch_id=136 Accuracy=46.93: 100%|██████████| 137/137 [05:31<00:00,  2.42s/it]\n",
            "  0%|          | 0/137 [00:00<?, ?it/s]"
          ],
          "name": "stderr"
        },
        {
          "output_type": "stream",
          "text": [
            "\n",
            "Test set: Average loss: 0.0016, Accuracy: 11400/100000 (11.40%)\n",
            "\n",
            "Saving Model for accuracy:  11.4\n",
            "EPOCH: 6\n"
          ],
          "name": "stdout"
        },
        {
          "output_type": "stream",
          "text": [
            "Loss=3.832611560821533 Batch_id=136 Accuracy=47.69: 100%|██████████| 137/137 [05:31<00:00,  2.42s/it]\n",
            "  0%|          | 0/137 [00:00<?, ?it/s]"
          ],
          "name": "stderr"
        },
        {
          "output_type": "stream",
          "text": [
            "\n",
            "Test set: Average loss: 0.0016, Accuracy: 11505/100000 (11.51%)\n",
            "\n",
            "Saving Model for accuracy:  11.505\n",
            "EPOCH: 7\n"
          ],
          "name": "stdout"
        },
        {
          "output_type": "stream",
          "text": [
            "Loss=3.9280567169189453 Batch_id=136 Accuracy=47.84: 100%|██████████| 137/137 [05:31<00:00,  2.42s/it]\n",
            "  0%|          | 0/137 [00:00<?, ?it/s]"
          ],
          "name": "stderr"
        },
        {
          "output_type": "stream",
          "text": [
            "\n",
            "Test set: Average loss: 0.0017, Accuracy: 10665/100000 (10.66%)\n",
            "\n",
            "EPOCH: 8\n"
          ],
          "name": "stdout"
        },
        {
          "output_type": "stream",
          "text": [
            "Loss=3.921821355819702 Batch_id=136 Accuracy=49.02: 100%|██████████| 137/137 [05:32<00:00,  2.43s/it]\n",
            "  0%|          | 0/137 [00:00<?, ?it/s]"
          ],
          "name": "stderr"
        },
        {
          "output_type": "stream",
          "text": [
            "\n",
            "Test set: Average loss: 0.0016, Accuracy: 11132/100000 (11.13%)\n",
            "\n",
            "EPOCH: 9\n"
          ],
          "name": "stdout"
        },
        {
          "output_type": "stream",
          "text": [
            "Loss=3.8015148639678955 Batch_id=136 Accuracy=49.31: 100%|██████████| 137/137 [05:32<00:00,  2.42s/it]\n",
            "  0%|          | 0/137 [00:00<?, ?it/s]"
          ],
          "name": "stderr"
        },
        {
          "output_type": "stream",
          "text": [
            "\n",
            "Test set: Average loss: 0.0016, Accuracy: 11151/100000 (11.15%)\n",
            "\n",
            "EPOCH: 10\n"
          ],
          "name": "stdout"
        },
        {
          "output_type": "stream",
          "text": [
            "Loss=3.75302791595459 Batch_id=136 Accuracy=49.53: 100%|██████████| 137/137 [05:31<00:00,  2.42s/it]\n",
            "  0%|          | 0/137 [00:00<?, ?it/s]"
          ],
          "name": "stderr"
        },
        {
          "output_type": "stream",
          "text": [
            "\n",
            "Test set: Average loss: 0.0016, Accuracy: 11088/100000 (11.09%)\n",
            "\n",
            "EPOCH: 11\n"
          ],
          "name": "stdout"
        },
        {
          "output_type": "stream",
          "text": [
            "Loss=3.7378811836242676 Batch_id=136 Accuracy=50.28: 100%|██████████| 137/137 [05:31<00:00,  2.42s/it]\n",
            "  0%|          | 0/137 [00:00<?, ?it/s]"
          ],
          "name": "stderr"
        },
        {
          "output_type": "stream",
          "text": [
            "\n",
            "Test set: Average loss: 0.0016, Accuracy: 10801/100000 (10.80%)\n",
            "\n",
            "EPOCH: 12\n"
          ],
          "name": "stdout"
        },
        {
          "output_type": "stream",
          "text": [
            "Loss=3.7408061027526855 Batch_id=136 Accuracy=51.21: 100%|██████████| 137/137 [05:31<00:00,  2.42s/it]\n",
            "  0%|          | 0/137 [00:00<?, ?it/s]"
          ],
          "name": "stderr"
        },
        {
          "output_type": "stream",
          "text": [
            "\n",
            "Test set: Average loss: 0.0017, Accuracy: 10524/100000 (10.52%)\n",
            "\n",
            "EPOCH: 13\n"
          ],
          "name": "stdout"
        },
        {
          "output_type": "stream",
          "text": [
            "Loss=3.704589366912842 Batch_id=136 Accuracy=51.62: 100%|██████████| 137/137 [05:31<00:00,  2.42s/it]\n",
            "  0%|          | 0/137 [00:00<?, ?it/s]"
          ],
          "name": "stderr"
        },
        {
          "output_type": "stream",
          "text": [
            "\n",
            "Test set: Average loss: 0.0016, Accuracy: 11323/100000 (11.32%)\n",
            "\n",
            "EPOCH: 14\n"
          ],
          "name": "stdout"
        },
        {
          "output_type": "stream",
          "text": [
            "Loss=3.6396491527557373 Batch_id=136 Accuracy=52.10: 100%|██████████| 137/137 [05:31<00:00,  2.42s/it]\n",
            "  0%|          | 0/137 [00:00<?, ?it/s]"
          ],
          "name": "stderr"
        },
        {
          "output_type": "stream",
          "text": [
            "\n",
            "Test set: Average loss: 0.0016, Accuracy: 10754/100000 (10.75%)\n",
            "\n",
            "EPOCH: 15\n"
          ],
          "name": "stdout"
        },
        {
          "output_type": "stream",
          "text": [
            "Loss=3.618889093399048 Batch_id=136 Accuracy=52.90: 100%|██████████| 137/137 [05:31<00:00,  2.42s/it]\n",
            "  0%|          | 0/137 [00:00<?, ?it/s]"
          ],
          "name": "stderr"
        },
        {
          "output_type": "stream",
          "text": [
            "\n",
            "Test set: Average loss: 0.0017, Accuracy: 10568/100000 (10.57%)\n",
            "\n",
            "EPOCH: 16\n"
          ],
          "name": "stdout"
        },
        {
          "output_type": "stream",
          "text": [
            "Loss=3.431317090988159 Batch_id=136 Accuracy=53.04: 100%|██████████| 137/137 [05:30<00:00,  2.42s/it]\n",
            "  0%|          | 0/137 [00:00<?, ?it/s]"
          ],
          "name": "stderr"
        },
        {
          "output_type": "stream",
          "text": [
            "\n",
            "Test set: Average loss: 0.0016, Accuracy: 11212/100000 (11.21%)\n",
            "\n",
            "EPOCH: 17\n"
          ],
          "name": "stdout"
        },
        {
          "output_type": "stream",
          "text": [
            "Loss=3.470663070678711 Batch_id=136 Accuracy=53.54: 100%|██████████| 137/137 [05:31<00:00,  2.42s/it]\n",
            "  0%|          | 0/137 [00:00<?, ?it/s]"
          ],
          "name": "stderr"
        },
        {
          "output_type": "stream",
          "text": [
            "\n",
            "Test set: Average loss: 0.0017, Accuracy: 10757/100000 (10.76%)\n",
            "\n",
            "EPOCH: 18\n"
          ],
          "name": "stdout"
        },
        {
          "output_type": "stream",
          "text": [
            "Loss=3.087820529937744 Batch_id=136 Accuracy=60.86: 100%|██████████| 137/137 [05:31<00:00,  2.42s/it]\n",
            "  0%|          | 0/137 [00:00<?, ?it/s]"
          ],
          "name": "stderr"
        },
        {
          "output_type": "stream",
          "text": [
            "\n",
            "Test set: Average loss: 0.0013, Accuracy: 14678/100000 (14.68%)\n",
            "\n",
            "Saving Model for accuracy:  14.678\n",
            "EPOCH: 19\n"
          ],
          "name": "stdout"
        },
        {
          "output_type": "stream",
          "text": [
            "Loss=3.066209316253662 Batch_id=136 Accuracy=62.56: 100%|██████████| 137/137 [05:31<00:00,  2.42s/it]\n",
            "  0%|          | 0/137 [00:00<?, ?it/s]"
          ],
          "name": "stderr"
        },
        {
          "output_type": "stream",
          "text": [
            "\n",
            "Test set: Average loss: 0.0012, Accuracy: 14656/100000 (14.66%)\n",
            "\n",
            "EPOCH: 20\n"
          ],
          "name": "stdout"
        },
        {
          "output_type": "stream",
          "text": [
            "Loss=3.065333366394043 Batch_id=136 Accuracy=63.64: 100%|██████████| 137/137 [05:30<00:00,  2.41s/it]\n",
            "  0%|          | 0/137 [00:00<?, ?it/s]"
          ],
          "name": "stderr"
        },
        {
          "output_type": "stream",
          "text": [
            "\n",
            "Test set: Average loss: 0.0012, Accuracy: 14760/100000 (14.76%)\n",
            "\n",
            "Saving Model for accuracy:  14.76\n",
            "EPOCH: 21\n"
          ],
          "name": "stdout"
        },
        {
          "output_type": "stream",
          "text": [
            "Loss=2.8963441848754883 Batch_id=136 Accuracy=64.26: 100%|██████████| 137/137 [05:30<00:00,  2.41s/it]\n",
            "  0%|          | 0/137 [00:00<?, ?it/s]"
          ],
          "name": "stderr"
        },
        {
          "output_type": "stream",
          "text": [
            "\n",
            "Test set: Average loss: 0.0013, Accuracy: 14692/100000 (14.69%)\n",
            "\n",
            "EPOCH: 22\n"
          ],
          "name": "stdout"
        },
        {
          "output_type": "stream",
          "text": [
            "Loss=3.010909080505371 Batch_id=136 Accuracy=64.73: 100%|██████████| 137/137 [05:30<00:00,  2.41s/it]\n",
            "  0%|          | 0/137 [00:00<?, ?it/s]"
          ],
          "name": "stderr"
        },
        {
          "output_type": "stream",
          "text": [
            "\n",
            "Test set: Average loss: 0.0013, Accuracy: 14688/100000 (14.69%)\n",
            "\n",
            "EPOCH: 23\n"
          ],
          "name": "stdout"
        },
        {
          "output_type": "stream",
          "text": [
            "Loss=3.0927765369415283 Batch_id=14 Accuracy=65.76:  10%|█         | 14/137 [00:36<04:56,  2.41s/it]"
          ],
          "name": "stderr"
        }
      ]
    },
    {
      "cell_type": "code",
      "metadata": {
        "id": "XZbJ5pfjmgLy"
      },
      "source": [
        "mfor epoch in range(EPOCHS):\r\n",
        "    print(\"EPOCH:\", epoch+1)\r\n",
        "    # train\r\n",
        "    train_epoch_acc, train_epoch_loss = train(model, device, train_loader, optimizer, criterion, l2_decay=5e-3, scheduler=scheduler)\r\n",
        "    train_losses.append(train_epoch_loss)\r\n",
        "    train_acc.append(train_epoch_acc)\r\n",
        "\r\n",
        "    # test\r\n",
        "    test_epoch_acc, test_epoch_loss = validate(model, device, val_loader, criterion)\r\n",
        "    test_losses.append(test_epoch_loss)\r\n",
        "    test_acc.append(test_epoch_acc)\r\n",
        "\r\n",
        "    #scheduler.step(test_epoch_loss)\r\n",
        "\r\n",
        "    # remember best accuracy and save the model\r\n",
        "    is_best = test_epoch_acc > best_test_acc\r\n",
        "    best_test_acc = max(test_epoch_acc, best_test_acc)\r\n",
        "\r\n",
        "    if is_best:\r\n",
        "        print('Saving Model for accuracy: ', test_epoch_acc)\r\n",
        "        torch.save(model.state_dict(), model_path)"
      ],
      "execution_count": null,
      "outputs": []
    },
    {
      "cell_type": "code",
      "metadata": {
        "id": "-RLg66Hf9vWM",
        "colab": {
          "base_uri": "https://localhost:8080/"
        },
        "outputId": "1efad575-48dc-4349-bb36-e87ec03840e3"
      },
      "source": [
        "print('BEST TEST ACCURACY:{}%'.format(max(test_acc)))"
      ],
      "execution_count": 15,
      "outputs": [
        {
          "output_type": "stream",
          "text": [
            "BEST TEST ACCURACY:12.969%\n"
          ],
          "name": "stdout"
        }
      ]
    },
    {
      "cell_type": "code",
      "metadata": {
        "id": "naUik8v7yImS"
      },
      "source": [
        " plt.plot(lrs)"
      ],
      "execution_count": null,
      "outputs": []
    },
    {
      "cell_type": "markdown",
      "metadata": {
        "id": "yOEKPMsO4WRo"
      },
      "source": [
        "# View Model Results"
      ]
    },
    {
      "cell_type": "code",
      "metadata": {
        "id": "6IwDLReR6Hoa"
      },
      "source": [
        "plot_results(train_losses,train_acc,test_losses,test_acc)"
      ],
      "execution_count": null,
      "outputs": []
    },
    {
      "cell_type": "code",
      "metadata": {
        "id": "-rXhh_glvbvB",
        "colab": {
          "base_uri": "https://localhost:8080/"
        },
        "outputId": "f763d19e-b30d-41c9-d2a9-5c22c2ee3a4c"
      },
      "source": [
        "#load the best model from path\r\n",
        "resnet18_model = ResNet18(200)\r\n",
        "resnet18_model.load_state_dict(torch.load(model_path))"
      ],
      "execution_count": 13,
      "outputs": [
        {
          "output_type": "execute_result",
          "data": {
            "text/plain": [
              "<All keys matched successfully>"
            ]
          },
          "metadata": {
            "tags": []
          },
          "execution_count": 13
        }
      ]
    },
    {
      "cell_type": "code",
      "metadata": {
        "id": "PG99484QQuK1"
      },
      "source": [
        "msx_images,msx_labels,msx_predictions = get_image_predictions(model.to('cpu'), test_loader,misclassified = True, count=25)"
      ],
      "execution_count": null,
      "outputs": []
    },
    {
      "cell_type": "code",
      "metadata": {
        "id": "Jb-pSHl4QuQU"
      },
      "source": [
        "show_images_predictions(msx_images,msx_labels,msx_predictions,classes,nrow=1, ncol=4,fig_size=(20,20))"
      ],
      "execution_count": null,
      "outputs": []
    },
    {
      "cell_type": "markdown",
      "metadata": {
        "id": "Jizd0ms2ff9X"
      },
      "source": [
        "# GradCam"
      ]
    },
    {
      "cell_type": "code",
      "metadata": {
        "id": "K0M6AgHPffhO"
      },
      "source": [
        "images = visualize_gradcam(model,msx_images, mean, std)"
      ],
      "execution_count": null,
      "outputs": []
    },
    {
      "cell_type": "code",
      "metadata": {
        "id": "rPzBrP50gXeR"
      },
      "source": [
        "image_grid = make_grid(torch.cat(images,), nrow=5)\r\n",
        "save_image(image_grid, 'grad_cam.jpg')\r\n",
        "\r\n",
        "img = PIL.Image.open('grad_cam.jpg')\r\n",
        "\r\n",
        "img.resize((1000, 25*200))"
      ],
      "execution_count": null,
      "outputs": []
    },
    {
      "cell_type": "code",
      "metadata": {
        "id": "jGU6wOqsj-fV"
      },
      "source": [
        ""
      ],
      "execution_count": null,
      "outputs": []
    }
  ]
}